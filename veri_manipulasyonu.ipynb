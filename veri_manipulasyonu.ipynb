{
 "cells": [
  {
   "cell_type": "code",
   "execution_count": 52,
   "id": "027aa3d0-18aa-427f-b537-81704d6c4d31",
   "metadata": {},
   "outputs": [],
   "source": [
    "import numpy as np"
   ]
  },
  {
   "cell_type": "markdown",
   "id": "8b0d2dc0-a52a-4ad7-8920-a38062fdc253",
   "metadata": {
    "tags": []
   },
   "source": [
    "**_Numerical Python açılımı.\n",
    "Bilimsel hesaplamalar için kullanılır.\n",
    "Arraylar / Çok boyutlu array ve matrisler üzerinde yüksek performanslı çalışma imkanı sağlar.\n",
    "Listelere benzer fakat verimli veri saklama ve vektörel operasyon sağlar._**\n",
    "\n",
    "**Hücre çalıştırma => Shift + Enter**\n",
    "\n",
    "**Notebook kuralları:**\n",
    "\n",
    "* Silme => D + D\n",
    "\n",
    "* Kesme => Dış tıkla + X\n",
    "\n",
    "* Kopyalama => Dış tıkla + C\n",
    "\n",
    "* Yapıştırma => Dış tıkla + V\n",
    "\n",
    "**!! Hücre içinde code kısmında en son neyi yazdıysan onu çalıştırır.**\n",
    "\n",
    "a = [1,2,3,4]\n",
    "b = [2,3,4,5]\n",
    "\n",
    "a\n",
    "\n",
    "b\n",
    "\n",
    "burada b çalışacak a çalışmayacaktır. Ama ikisini farklı hücrede çağırır isek ikiside çalışacaktır.\n",
    "\n"
   ]
  },
  {
   "cell_type": "code",
   "execution_count": 53,
   "id": "7c64a8a0-b130-45c2-a573-09d888f24696",
   "metadata": {},
   "outputs": [],
   "source": [
    "a = [1,2,3,4]\n",
    "b = [2,3,4,5]\n",
    "\n",
    "\n",
    "\n"
   ]
  },
  {
   "cell_type": "code",
   "execution_count": 54,
   "id": "a6585caf-e95e-4b7f-98fd-ceb60a73a5f3",
   "metadata": {},
   "outputs": [
    {
     "data": {
      "text/plain": [
       "[2, 6, 12, 20]"
      ]
     },
     "execution_count": 54,
     "metadata": {},
     "output_type": "execute_result"
    }
   ],
   "source": [
    "ab = []\n",
    "for i in range(0,len(a)):\n",
    "    ab.append(a[i]*b[i])\n",
    "ab"
   ]
  },
  {
   "cell_type": "code",
   "execution_count": 55,
   "id": "4ea57c36-94ee-4964-bf4c-8569fcaf6945",
   "metadata": {},
   "outputs": [
    {
     "data": {
      "text/plain": [
       "array([ 2,  6, 12, 20])"
      ]
     },
     "execution_count": 55,
     "metadata": {},
     "output_type": "execute_result"
    }
   ],
   "source": [
    "\n",
    "\n",
    "a = np.array([1,2,3,4])\n",
    "b = np.array([2,3,4,5])\n",
    "\n",
    "a*b"
   ]
  },
  {
   "cell_type": "code",
   "execution_count": 56,
   "id": "8086c646-ea2c-4a5e-bf88-b10ba13f5e98",
   "metadata": {},
   "outputs": [
    {
     "data": {
      "text/plain": [
       "numpy.ndarray"
      ]
     },
     "execution_count": 56,
     "metadata": {},
     "output_type": "execute_result"
    }
   ],
   "source": [
    "c = np.array([12,3,4])\n",
    "type(c)"
   ]
  },
  {
   "cell_type": "code",
   "execution_count": 57,
   "id": "844cc7d5-ca20-4143-8dee-4153407c2f8a",
   "metadata": {},
   "outputs": [
    {
     "data": {
      "text/plain": [
       "array([3.14, 2.  , 3.  ])"
      ]
     },
     "execution_count": 57,
     "metadata": {},
     "output_type": "execute_result"
    }
   ],
   "source": [
    "np.array([3.14,2,3])\n"
   ]
  },
  {
   "cell_type": "markdown",
   "id": "14a9a6ab-1595-4e10-8d22-c27050fe3082",
   "metadata": {},
   "source": [
    "**numpy arrayleri sabit tip baskısı sağlar**\n",
    "\n",
    "* **eğer özel tip yapmak istersek numpy.array() içine dtype=\"\" diyerek dtype içine istediğimiz number tipini koyabiliriz.**\n"
   ]
  },
  {
   "cell_type": "code",
   "execution_count": 58,
   "id": "e2b9727e-6b3d-46bd-b98e-efa61b59b73a",
   "metadata": {},
   "outputs": [
    {
     "data": {
      "text/plain": [
       "array([1, 2, 3, 4])"
      ]
     },
     "execution_count": 58,
     "metadata": {},
     "output_type": "execute_result"
    }
   ],
   "source": [
    "np.array([1.1,2.2,3.4,4.5],dtype = \"int\")"
   ]
  },
  {
   "cell_type": "markdown",
   "id": "0bf72193-1f30-4f9f-9330-4cd5aca7da3b",
   "metadata": {},
   "source": [
    "**Sıfırdan array oluşturma işlemleri**\n",
    "\n",
    "* _**np.zeros(10)** => 10 tane 0 dan oluşmuş bir array oluşturur._\n",
    "\n",
    "* _**np.ones((3,5))** => 3 satır 5 sütunluk 1 lerden oluşmuş bir array_\n",
    "\n",
    "* _**np.full((3,5),3)** => sadece 3 lerden oluşan 3 x 5 matris_\n",
    "\n",
    "* _**np.arange(0,31,3)** => 0 dan 30 a kadar 3 er sıra ara ile lineer dizi oluşturur._\n",
    "\n",
    "* _**np.linspace(0,1,10)** => 0 ile 1 arasında 10 adımlı lineer dizi oluşturur._\n",
    "\n",
    "* _**np.random.normal(10,4, (3,4))** => ortalaması 10 standart sapması 4 olucak şekilde rastgele sayılardan üretilmiş bir 3 x 4 matris oluşturur._ => dağılım\n",
    "\n",
    "* _**np.random.rand()** ve np.randint() rand() 0 ile 1 arasında randint verilen değer aralığında olucak rastgele sayılar ile matris oluşturur._\n",
    "\n",
    "\n",
    "\n"
   ]
  },
  {
   "cell_type": "code",
   "execution_count": 59,
   "id": "ba7e31ac-82e9-4bea-97ef-5acb4a19cf1c",
   "metadata": {},
   "outputs": [
    {
     "data": {
      "text/plain": [
       "array([0., 0., 0., 0., 0., 0., 0., 0., 0., 0.])"
      ]
     },
     "execution_count": 59,
     "metadata": {},
     "output_type": "execute_result"
    }
   ],
   "source": [
    "np.zeros(10)"
   ]
  },
  {
   "cell_type": "code",
   "execution_count": 60,
   "id": "5de7503c-8987-4617-b4f0-0a1de26e5886",
   "metadata": {},
   "outputs": [
    {
     "data": {
      "text/plain": [
       "array([1., 1., 1., 1., 1., 1., 1., 1., 1., 1.])"
      ]
     },
     "execution_count": 60,
     "metadata": {},
     "output_type": "execute_result"
    }
   ],
   "source": [
    "np.ones(10)"
   ]
  },
  {
   "cell_type": "code",
   "execution_count": 61,
   "id": "da7e40b0-05ac-411b-8a41-dbefc498f04c",
   "metadata": {},
   "outputs": [
    {
     "data": {
      "text/plain": [
       "array([[0., 0.],\n",
       "       [0., 0.]])"
      ]
     },
     "execution_count": 61,
     "metadata": {},
     "output_type": "execute_result"
    }
   ],
   "source": [
    "np.zeros((2,2))"
   ]
  },
  {
   "cell_type": "code",
   "execution_count": 62,
   "id": "2c3f9f7c-5477-4c7d-83b2-a51901ee4122",
   "metadata": {},
   "outputs": [
    {
     "data": {
      "text/plain": [
       "array([[1, 1, 1, 1],\n",
       "       [1, 1, 1, 1],\n",
       "       [1, 1, 1, 1]])"
      ]
     },
     "execution_count": 62,
     "metadata": {},
     "output_type": "execute_result"
    }
   ],
   "source": [
    "np.ones((3,4),dtype=\"int\")"
   ]
  },
  {
   "cell_type": "code",
   "execution_count": 63,
   "id": "7413cd23-832e-4f9d-9966-eb46dcafc19f",
   "metadata": {},
   "outputs": [
    {
     "data": {
      "text/plain": [
       "array([[31, 31, 31, 31],\n",
       "       [31, 31, 31, 31],\n",
       "       [31, 31, 31, 31],\n",
       "       [31, 31, 31, 31]])"
      ]
     },
     "execution_count": 63,
     "metadata": {},
     "output_type": "execute_result"
    }
   ],
   "source": [
    "np.full((4,4),31)"
   ]
  },
  {
   "cell_type": "code",
   "execution_count": 64,
   "id": "4e4a7790-3de3-4221-add7-daa8f09241c9",
   "metadata": {},
   "outputs": [
    {
     "data": {
      "text/plain": [
       "array([0, 1, 2, 3, 4, 5, 6, 7, 8, 9])"
      ]
     },
     "execution_count": 64,
     "metadata": {},
     "output_type": "execute_result"
    }
   ],
   "source": [
    "np.arange(0,10,1)"
   ]
  },
  {
   "cell_type": "code",
   "execution_count": 65,
   "id": "e5c8767b-4f8d-41a3-875c-7027f17f24d7",
   "metadata": {},
   "outputs": [
    {
     "data": {
      "text/plain": [
       "array([0.        , 0.11111111, 0.22222222, 0.33333333, 0.44444444,\n",
       "       0.55555556, 0.66666667, 0.77777778, 0.88888889, 1.        ])"
      ]
     },
     "execution_count": 65,
     "metadata": {},
     "output_type": "execute_result"
    }
   ],
   "source": [
    "np.linspace(0,1,10)"
   ]
  },
  {
   "cell_type": "code",
   "execution_count": 66,
   "id": "b86d5315-730b-44aa-96ec-e5aa648427a1",
   "metadata": {},
   "outputs": [
    {
     "data": {
      "text/plain": [
       "array([[-14.80541673, -12.70684768,  -2.6423742 ,  12.25229482],\n",
       "       [ -0.88685869, -26.16541208,   1.69961881,   4.99113281],\n",
       "       [  8.81677738,   0.65666692,  -3.00306667,  11.90426592]])"
      ]
     },
     "execution_count": 66,
     "metadata": {},
     "output_type": "execute_result"
    }
   ],
   "source": [
    "np.random.normal(2,14,(3,4))"
   ]
  },
  {
   "cell_type": "code",
   "execution_count": 67,
   "id": "4479e7c5-02b0-4dfc-a7ba-33aa9b034b02",
   "metadata": {},
   "outputs": [
    {
     "data": {
      "text/plain": [
       "array([[0.48312847, 0.93786755, 0.04268921],\n",
       "       [0.69908073, 0.15259295, 0.70219752]])"
      ]
     },
     "execution_count": 67,
     "metadata": {},
     "output_type": "execute_result"
    }
   ],
   "source": [
    "np.random.rand(2,3)"
   ]
  },
  {
   "cell_type": "code",
   "execution_count": 68,
   "id": "184ce6f6-2fc7-407f-bd2e-fe6c4cd96153",
   "metadata": {},
   "outputs": [
    {
     "data": {
      "text/plain": [
       "array([[4, 9, 3],\n",
       "       [7, 8, 3],\n",
       "       [1, 4, 1]])"
      ]
     },
     "execution_count": 68,
     "metadata": {},
     "output_type": "execute_result"
    }
   ],
   "source": [
    "np.random.randint(0,10,(3,3))"
   ]
  },
  {
   "cell_type": "markdown",
   "id": "a5f33a80-cda4-4d07-b9a4-bb9a32b636a7",
   "metadata": {},
   "source": [
    "**_np.random.randint(10, size=10)_** 0 dan 10 kadar farklı sayı veren size = 10 olan bir lineer dizi verir."
   ]
  },
  {
   "cell_type": "code",
   "execution_count": 69,
   "id": "36f1129a-75ca-41bf-9e5a-d221ccb82e12",
   "metadata": {},
   "outputs": [],
   "source": [
    "a = np.random.randint(10, size=10)"
   ]
  },
  {
   "cell_type": "markdown",
   "id": "3b7a6f67-ac5d-49c7-848b-629ad0ce9d32",
   "metadata": {},
   "source": [
    "_**a.ndim**_ => boyut sayısını verir\n",
    "\n",
    "_**a.shape**_ => boyut bilgisini verir eğer lineer bir dizi ise boyut bilgisi eleman sayısını eşittir.\n",
    "\n",
    "_**a.size**_ => eleman sayısı verir\n",
    "\n",
    "_**a.dtype**_ => array veri tipini verir"
   ]
  },
  {
   "cell_type": "code",
   "execution_count": 70,
   "id": "f0be566e-7101-4268-a84a-cc9d6d1efb48",
   "metadata": {},
   "outputs": [
    {
     "data": {
      "text/plain": [
       "1"
      ]
     },
     "execution_count": 70,
     "metadata": {},
     "output_type": "execute_result"
    }
   ],
   "source": [
    "a.ndim\n"
   ]
  },
  {
   "cell_type": "code",
   "execution_count": 71,
   "id": "ca1d1380-ad3b-4825-b765-ec4b2bb6a185",
   "metadata": {},
   "outputs": [
    {
     "data": {
      "text/plain": [
       "(10,)"
      ]
     },
     "execution_count": 71,
     "metadata": {},
     "output_type": "execute_result"
    }
   ],
   "source": [
    "a.shape"
   ]
  },
  {
   "cell_type": "code",
   "execution_count": 72,
   "id": "d1990f83-41fa-4795-b46e-767b851a6b8c",
   "metadata": {},
   "outputs": [
    {
     "data": {
      "text/plain": [
       "10"
      ]
     },
     "execution_count": 72,
     "metadata": {},
     "output_type": "execute_result"
    }
   ],
   "source": [
    "a.size"
   ]
  },
  {
   "cell_type": "code",
   "execution_count": 73,
   "id": "05bede4b-44d7-420e-a3f5-292587353684",
   "metadata": {},
   "outputs": [
    {
     "data": {
      "text/plain": [
       "dtype('int32')"
      ]
     },
     "execution_count": 73,
     "metadata": {},
     "output_type": "execute_result"
    }
   ],
   "source": [
    "a.dtype"
   ]
  },
  {
   "cell_type": "code",
   "execution_count": 74,
   "id": "851df8ba-348c-4339-8843-000b34555fae",
   "metadata": {},
   "outputs": [],
   "source": [
    "b = np.random.randint(10, size= (3,5))"
   ]
  },
  {
   "cell_type": "code",
   "execution_count": 75,
   "id": "ddedf9d2",
   "metadata": {},
   "outputs": [
    {
     "data": {
      "text/plain": [
       "array([[0, 1, 3, 0, 0],\n",
       "       [6, 0, 4, 2, 7],\n",
       "       [5, 4, 9, 9, 1]])"
      ]
     },
     "execution_count": 75,
     "metadata": {},
     "output_type": "execute_result"
    }
   ],
   "source": [
    "b"
   ]
  },
  {
   "cell_type": "code",
   "execution_count": 76,
   "id": "56cb1b1d",
   "metadata": {},
   "outputs": [
    {
     "data": {
      "text/plain": [
       "2"
      ]
     },
     "execution_count": 76,
     "metadata": {},
     "output_type": "execute_result"
    }
   ],
   "source": [
    "b.ndim"
   ]
  },
  {
   "cell_type": "code",
   "execution_count": 77,
   "id": "10bc4a08",
   "metadata": {},
   "outputs": [
    {
     "data": {
      "text/plain": [
       "(3, 5)"
      ]
     },
     "execution_count": 77,
     "metadata": {},
     "output_type": "execute_result"
    }
   ],
   "source": [
    "b.shape"
   ]
  },
  {
   "cell_type": "code",
   "execution_count": 78,
   "id": "dcd79816",
   "metadata": {},
   "outputs": [
    {
     "data": {
      "text/plain": [
       "15"
      ]
     },
     "execution_count": 78,
     "metadata": {},
     "output_type": "execute_result"
    }
   ],
   "source": [
    "b.size"
   ]
  },
  {
   "cell_type": "code",
   "execution_count": 79,
   "id": "ea602dae",
   "metadata": {},
   "outputs": [
    {
     "data": {
      "text/plain": [
       "dtype('int32')"
      ]
     },
     "execution_count": 79,
     "metadata": {},
     "output_type": "execute_result"
    }
   ],
   "source": [
    "b.dtype"
   ]
  },
  {
   "cell_type": "markdown",
   "id": "09bd063c",
   "metadata": {},
   "source": [
    "* _**np.reshape()**_ bize matrisi veya lineer bir dizinin boyutunu değiştirme imkanı sağlar."
   ]
  },
  {
   "cell_type": "code",
   "execution_count": 80,
   "id": "2fef2968",
   "metadata": {},
   "outputs": [
    {
     "data": {
      "text/plain": [
       "array([[1, 2, 3],\n",
       "       [4, 5, 6],\n",
       "       [7, 8, 9]])"
      ]
     },
     "execution_count": 80,
     "metadata": {},
     "output_type": "execute_result"
    }
   ],
   "source": [
    "\n",
    "arr = np.arange(1,10)\n",
    "\n",
    "new_arr = arr.reshape((3,3))\n",
    "\n",
    "new_arr\n",
    "\n",
    "\n",
    "\n"
   ]
  },
  {
   "cell_type": "code",
   "execution_count": 81,
   "id": "3d9429a2",
   "metadata": {},
   "outputs": [
    {
     "data": {
      "text/plain": [
       "array([[0, 1],\n",
       "       [2, 3],\n",
       "       [4, 5],\n",
       "       [6, 7],\n",
       "       [8, 9]])"
      ]
     },
     "execution_count": 81,
     "metadata": {},
     "output_type": "execute_result"
    }
   ],
   "source": [
    "array = np.arange(0,10).reshape((5,2))\n",
    "array"
   ]
  },
  {
   "cell_type": "markdown",
   "id": "13d6d9fb",
   "metadata": {},
   "source": [
    " **iki farklı numpy array birleştirme**\n",
    " * _**np.concatenate()**_ sayesinde tek boyutlu iki veya ikiden fazla np.array birleştirebiliriz. Aynı şekilde iki boyutlu matrisler içinde geçerli \n",
    "\n",
    " * _**axis=**_ ise mevcut dizinin satır mı yoksa sütun bazında gözükmesini sağlar axis=0 satır axis=1 sütun şeklinde gösterir\n",
    "\n"
   ]
  },
  {
   "cell_type": "code",
   "execution_count": 82,
   "id": "83f5403f",
   "metadata": {},
   "outputs": [
    {
     "data": {
      "text/plain": [
       "array([1, 2, 3, 4, 5, 6])"
      ]
     },
     "execution_count": 82,
     "metadata": {},
     "output_type": "execute_result"
    }
   ],
   "source": [
    "a = np.array([1,2,3])\n",
    "b = np.array([4,5,6])\n",
    "\n",
    "concat = np.concatenate([a,b])\n",
    "\n",
    "concat\n",
    "\n"
   ]
  },
  {
   "cell_type": "code",
   "execution_count": 83,
   "id": "3ccdcdcb",
   "metadata": {},
   "outputs": [
    {
     "data": {
      "text/plain": [
       "array([[7, 1, 4, 7, 1, 4],\n",
       "       [7, 4, 9, 7, 4, 9],\n",
       "       [5, 1, 2, 5, 1, 2]])"
      ]
     },
     "execution_count": 83,
     "metadata": {},
     "output_type": "execute_result"
    }
   ],
   "source": [
    "a = np.random.randint(0,10,(3,3))\n",
    "\n",
    "concat = np.concatenate([a,a], axis=1)\n",
    "\n",
    "concat"
   ]
  },
  {
   "cell_type": "markdown",
   "id": "faaa280c",
   "metadata": {},
   "source": [
    "**numpy arrayleri bölme işlemleri**\n",
    "\n",
    "* _**np.split()**_ lineer dizileri bölmeyi sağlar.\n",
    "\n",
    "* _**np.vsplit()**_ M x N boyutlu matrisi yatay olarak böler.\n",
    "\n",
    "* _**np.hsplit()**_ M x N boyutlu matrisi dikey olarak\n",
    "böler."
   ]
  },
  {
   "cell_type": "code",
   "execution_count": 84,
   "id": "8c3f227e",
   "metadata": {},
   "outputs": [],
   "source": [
    "a = np.arange(16)\n",
    "\n",
    "b,c,d = np.split(a,[3,11])"
   ]
  },
  {
   "cell_type": "code",
   "execution_count": 85,
   "id": "16142dcd",
   "metadata": {},
   "outputs": [
    {
     "data": {
      "text/plain": [
       "array([0, 1, 2])"
      ]
     },
     "execution_count": 85,
     "metadata": {},
     "output_type": "execute_result"
    }
   ],
   "source": [
    "b"
   ]
  },
  {
   "cell_type": "code",
   "execution_count": 86,
   "id": "6de5b7ac",
   "metadata": {},
   "outputs": [
    {
     "data": {
      "text/plain": [
       "array([ 3,  4,  5,  6,  7,  8,  9, 10])"
      ]
     },
     "execution_count": 86,
     "metadata": {},
     "output_type": "execute_result"
    }
   ],
   "source": [
    "c"
   ]
  },
  {
   "cell_type": "code",
   "execution_count": 87,
   "id": "5cee2b23",
   "metadata": {},
   "outputs": [
    {
     "data": {
      "text/plain": [
       "array([11, 12, 13, 14, 15])"
      ]
     },
     "execution_count": 87,
     "metadata": {},
     "output_type": "execute_result"
    }
   ],
   "source": [
    "d"
   ]
  },
  {
   "cell_type": "code",
   "execution_count": 88,
   "id": "109b9fb7",
   "metadata": {},
   "outputs": [
    {
     "data": {
      "text/plain": [
       "array([[ 0,  1,  2,  3],\n",
       "       [ 4,  5,  6,  7],\n",
       "       [ 8,  9, 10, 11],\n",
       "       [12, 13, 14, 15]])"
      ]
     },
     "execution_count": 88,
     "metadata": {},
     "output_type": "execute_result"
    }
   ],
   "source": [
    "arr = np.arange(16).reshape((4,4))\n",
    "\n",
    "arr"
   ]
  },
  {
   "cell_type": "code",
   "execution_count": 89,
   "id": "7825ca74",
   "metadata": {},
   "outputs": [
    {
     "data": {
      "text/plain": [
       "[array([[ 0,  1,  2,  3],\n",
       "        [ 4,  5,  6,  7],\n",
       "        [ 8,  9, 10, 11]]),\n",
       " array([[12, 13, 14, 15]])]"
      ]
     },
     "execution_count": 89,
     "metadata": {},
     "output_type": "execute_result"
    }
   ],
   "source": [
    "np.vsplit(arr,[3])"
   ]
  },
  {
   "cell_type": "markdown",
   "id": "f11a7764",
   "metadata": {},
   "source": [
    "**numpy array sıralama**\n",
    "\n",
    "* _**np.sort()**_ bu işlemi sağlar. Eğer matris üzerinde yapacak olursak da satır ve sütun olarak axis= kullanarak bu işlemi sağlarız."
   ]
  },
  {
   "cell_type": "code",
   "execution_count": 90,
   "id": "8c97ad76",
   "metadata": {},
   "outputs": [
    {
     "data": {
      "text/plain": [
       "array([[6, 2, 7, 9],\n",
       "       [6, 2, 3, 1],\n",
       "       [8, 6, 7, 5]])"
      ]
     },
     "execution_count": 90,
     "metadata": {},
     "output_type": "execute_result"
    }
   ],
   "source": [
    "m = np.random.randint(1,10,(3,4))\n",
    "\n",
    "m"
   ]
  },
  {
   "cell_type": "code",
   "execution_count": 91,
   "id": "9454fa6d",
   "metadata": {},
   "outputs": [
    {
     "data": {
      "text/plain": [
       "array([[6, 2, 3, 1],\n",
       "       [6, 2, 7, 5],\n",
       "       [8, 6, 7, 9]])"
      ]
     },
     "execution_count": 91,
     "metadata": {},
     "output_type": "execute_result"
    }
   ],
   "source": [
    "np.sort(m,axis=0)"
   ]
  },
  {
   "cell_type": "code",
   "execution_count": 92,
   "id": "a63a2025",
   "metadata": {},
   "outputs": [
    {
     "data": {
      "text/plain": [
       "array([[2, 6, 7, 9],\n",
       "       [1, 2, 3, 6],\n",
       "       [5, 6, 7, 8]])"
      ]
     },
     "execution_count": 92,
     "metadata": {},
     "output_type": "execute_result"
    }
   ],
   "source": [
    "np.sort(m, axis=1)"
   ]
  },
  {
   "cell_type": "code",
   "execution_count": 93,
   "id": "650ff331",
   "metadata": {},
   "outputs": [
    {
     "data": {
      "text/plain": [
       "array([0.06925788, 0.15543769, 0.25406812, 0.51516183, 0.52007013,\n",
       "       0.63604226, 0.68323634, 0.80847917, 0.93088385, 0.99599864])"
      ]
     },
     "execution_count": 93,
     "metadata": {},
     "output_type": "execute_result"
    }
   ],
   "source": [
    "c = np.random.rand(10)\n",
    "\n",
    "np.sort(c)"
   ]
  },
  {
   "cell_type": "markdown",
   "id": "0d577c5c",
   "metadata": {},
   "source": [
    "**numpy arraylerde eleman işlemleri**\n",
    "\n",
    "a = np.array([1,2,3]) \n",
    "\n",
    " * a[0] = 1 bu şekilde erişim sağlanacaktır.\n",
    "\n",
    "Ayrıca atama işlemi yaparak ilgili indexteki elemanın değerini değiştirebilirsin."
   ]
  },
  {
   "cell_type": "code",
   "execution_count": 94,
   "id": "d0176e08",
   "metadata": {},
   "outputs": [
    {
     "data": {
      "text/plain": [
       "1"
      ]
     },
     "execution_count": 94,
     "metadata": {},
     "output_type": "execute_result"
    }
   ],
   "source": [
    "a = np.array([1,2,3,4,5])\n",
    "\n",
    "a[0]"
   ]
  },
  {
   "cell_type": "code",
   "execution_count": 95,
   "id": "5357d414",
   "metadata": {},
   "outputs": [
    {
     "data": {
      "text/plain": [
       "array([[4, 6, 8, 9],\n",
       "       [2, 1, 9, 1],\n",
       "       [8, 6, 5, 4]])"
      ]
     },
     "execution_count": 95,
     "metadata": {},
     "output_type": "execute_result"
    }
   ],
   "source": [
    "b = np.random.randint(10, size=(3,4))\n",
    "\n",
    "b"
   ]
  },
  {
   "cell_type": "code",
   "execution_count": 96,
   "id": "b25b5264",
   "metadata": {},
   "outputs": [
    {
     "data": {
      "text/plain": [
       "array([[ 4,  6,  8,  9],\n",
       "       [ 2,  1,  9, 12],\n",
       "       [ 8,  6,  5,  4]])"
      ]
     },
     "execution_count": 96,
     "metadata": {},
     "output_type": "execute_result"
    }
   ],
   "source": [
    "b[1,3] = 12\n",
    "\n",
    "b"
   ]
  },
  {
   "cell_type": "markdown",
   "id": "7eb9abb2",
   "metadata": {},
   "source": [
    "**Tek boyutta alt indekse erişme işlemleri**\n",
    "\n",
    "* _**a = np.arange(20,30)**_\n",
    "* _**a[2::2]**_\n",
    "* _array([22,24,26,28])_\n",
    "\n"
   ]
  },
  {
   "cell_type": "code",
   "execution_count": 100,
   "id": "cc437dfc",
   "metadata": {},
   "outputs": [
    {
     "data": {
      "text/plain": [
       "array([20, 21, 22, 23, 24, 25, 26, 27, 28, 29])"
      ]
     },
     "execution_count": 100,
     "metadata": {},
     "output_type": "execute_result"
    }
   ],
   "source": [
    "a = np.arange(20,30)\n",
    "a"
   ]
  },
  {
   "cell_type": "code",
   "execution_count": 101,
   "id": "1f9682cb",
   "metadata": {},
   "outputs": [
    {
     "data": {
      "text/plain": [
       "array([22, 24, 26, 28])"
      ]
     },
     "execution_count": 101,
     "metadata": {},
     "output_type": "execute_result"
    }
   ],
   "source": [
    "a[2::2]"
   ]
  },
  {
   "cell_type": "code",
   "execution_count": 102,
   "id": "7cd3b1d6",
   "metadata": {},
   "outputs": [
    {
     "data": {
      "text/plain": [
       "array([20, 23, 26, 29])"
      ]
     },
     "execution_count": 102,
     "metadata": {},
     "output_type": "execute_result"
    }
   ],
   "source": [
    "a[0::3]"
   ]
  },
  {
   "cell_type": "markdown",
   "id": "9132db97",
   "metadata": {},
   "source": [
    "**M x N matriste alt indekse erişim**\n",
    "\n",
    "* **a = np.random.randint(1,10,(5,2))**\n",
    "* **a**\n",
    "* a[:,4] => tüm satırlar ilgili sütun\n",
    "* a[1,:] => tüm sütunlar ilgili satır\n",
    "* a[0:2,0:3] => 0 dan 2 ye tüm satır 0 dan 3 e tüm sütun\n",
    "* a[::,:2] => tüm satırları al ilk 2 sütunu al\n",
    "\n",
    "* **! seçilen alt küme üzerinde işlem yapıldığında sonuçları ana kümeyede yansır.**"
   ]
  },
  {
   "cell_type": "code",
   "execution_count": 109,
   "id": "78e46f9f",
   "metadata": {},
   "outputs": [
    {
     "data": {
      "text/plain": [
       "array([[7, 8, 5, 7, 1],\n",
       "       [7, 6, 3, 8, 9],\n",
       "       [8, 1, 1, 7, 5],\n",
       "       [3, 6, 1, 9, 8],\n",
       "       [8, 6, 2, 6, 9]])"
      ]
     },
     "execution_count": 109,
     "metadata": {},
     "output_type": "execute_result"
    }
   ],
   "source": [
    "a = np.random.randint(1,10,(5,5))\n",
    "\n",
    "a"
   ]
  },
  {
   "cell_type": "code",
   "execution_count": 120,
   "id": "cc7326ed",
   "metadata": {},
   "outputs": [
    {
     "data": {
      "text/plain": [
       "array([1, 9, 5, 8, 9])"
      ]
     },
     "execution_count": 120,
     "metadata": {},
     "output_type": "execute_result"
    }
   ],
   "source": [
    "a[:,4]"
   ]
  },
  {
   "cell_type": "code",
   "execution_count": 126,
   "id": "0820d12f",
   "metadata": {},
   "outputs": [
    {
     "data": {
      "text/plain": [
       "array([7, 6, 3, 8, 9])"
      ]
     },
     "execution_count": 126,
     "metadata": {},
     "output_type": "execute_result"
    }
   ],
   "source": [
    "a[1,:]"
   ]
  },
  {
   "cell_type": "code",
   "execution_count": 124,
   "id": "a71b7b44",
   "metadata": {},
   "outputs": [
    {
     "data": {
      "text/plain": [
       "array([[7, 8, 5],\n",
       "       [7, 6, 3]])"
      ]
     },
     "execution_count": 124,
     "metadata": {},
     "output_type": "execute_result"
    }
   ],
   "source": [
    "a[0:2,0:3]"
   ]
  },
  {
   "cell_type": "code",
   "execution_count": 127,
   "id": "ff38b484",
   "metadata": {},
   "outputs": [
    {
     "data": {
      "text/plain": [
       "array([[7, 8],\n",
       "       [7, 6],\n",
       "       [8, 1],\n",
       "       [3, 6],\n",
       "       [8, 6]])"
      ]
     },
     "execution_count": 127,
     "metadata": {},
     "output_type": "execute_result"
    }
   ],
   "source": [
    "a[::,:2]"
   ]
  },
  {
   "cell_type": "markdown",
   "id": "5ea3331a",
   "metadata": {},
   "source": [
    "**Alt kümeleri bağımsızlaştırmak**\n",
    "\n",
    "* _**np.copy()**_ bunu bize sağlıyor arrayin alt kümesinin bir kopyasını değişkene atayıp üzerinde spesifik işlemler yapmamıza olanak sağlamak ile beraber ana array üzerinde hiçbir değişiklik yaşatmıyor."
   ]
  },
  {
   "cell_type": "code",
   "execution_count": 130,
   "id": "99cd9599",
   "metadata": {},
   "outputs": [
    {
     "data": {
      "text/plain": [
       "array([[1, 6, 0, 7, 2],\n",
       "       [7, 2, 6, 1, 2],\n",
       "       [3, 1, 0, 9, 0],\n",
       "       [8, 6, 7, 6, 0],\n",
       "       [7, 8, 5, 0, 8]])"
      ]
     },
     "execution_count": 130,
     "metadata": {},
     "output_type": "execute_result"
    }
   ],
   "source": [
    "a = np.random.randint(10, size=(5,5))\n",
    "a"
   ]
  },
  {
   "cell_type": "code",
   "execution_count": 131,
   "id": "f0042839",
   "metadata": {},
   "outputs": [
    {
     "data": {
      "text/plain": [
       "array([[1, 6],\n",
       "       [7, 2],\n",
       "       [3, 1]])"
      ]
     },
     "execution_count": 131,
     "metadata": {},
     "output_type": "execute_result"
    }
   ],
   "source": [
    "alt_a = a[0:3,0:2]\n",
    "alt_a"
   ]
  },
  {
   "cell_type": "code",
   "execution_count": 132,
   "id": "cf69eee7",
   "metadata": {},
   "outputs": [],
   "source": [
    "alt_a[0,0] = 9999999"
   ]
  },
  {
   "cell_type": "code",
   "execution_count": 133,
   "id": "90044fd3",
   "metadata": {},
   "outputs": [
    {
     "data": {
      "text/plain": [
       "array([[9999999,       6],\n",
       "       [      7,       2],\n",
       "       [      3,       1]])"
      ]
     },
     "execution_count": 133,
     "metadata": {},
     "output_type": "execute_result"
    }
   ],
   "source": [
    "alt_a"
   ]
  },
  {
   "cell_type": "code",
   "execution_count": 134,
   "id": "15a6c108",
   "metadata": {},
   "outputs": [],
   "source": [
    "alt_a[1,1] = 33"
   ]
  },
  {
   "cell_type": "code",
   "execution_count": 135,
   "id": "4d0c742c",
   "metadata": {},
   "outputs": [
    {
     "data": {
      "text/plain": [
       "array([[9999999,       6],\n",
       "       [      7,      33],\n",
       "       [      3,       1]])"
      ]
     },
     "execution_count": 135,
     "metadata": {},
     "output_type": "execute_result"
    }
   ],
   "source": [
    "alt_a"
   ]
  },
  {
   "cell_type": "code",
   "execution_count": 136,
   "id": "387b3ec8",
   "metadata": {},
   "outputs": [
    {
     "data": {
      "text/plain": [
       "array([[9999999,       6,       0,       7,       2],\n",
       "       [      7,      33,       6,       1,       2],\n",
       "       [      3,       1,       0,       9,       0],\n",
       "       [      8,       6,       7,       6,       0],\n",
       "       [      7,       8,       5,       0,       8]])"
      ]
     },
     "execution_count": 136,
     "metadata": {},
     "output_type": "execute_result"
    }
   ],
   "source": [
    "a"
   ]
  },
  {
   "cell_type": "code",
   "execution_count": 137,
   "id": "725df123",
   "metadata": {},
   "outputs": [
    {
     "data": {
      "text/plain": [
       "array([[8, 1, 7, 9, 6],\n",
       "       [6, 6, 7, 0, 9],\n",
       "       [2, 0, 7, 2, 7],\n",
       "       [6, 2, 5, 0, 2],\n",
       "       [2, 5, 8, 9, 7]])"
      ]
     },
     "execution_count": 137,
     "metadata": {},
     "output_type": "execute_result"
    }
   ],
   "source": [
    "m = np.random.randint(10,size=(5,5))\n",
    "m "
   ]
  },
  {
   "cell_type": "code",
   "execution_count": 138,
   "id": "23647bf9",
   "metadata": {},
   "outputs": [
    {
     "data": {
      "text/plain": [
       "array([[8, 1, 7],\n",
       "       [6, 6, 7]])"
      ]
     },
     "execution_count": 138,
     "metadata": {},
     "output_type": "execute_result"
    }
   ],
   "source": [
    "alt_m = np.copy(m[0:2,0:3])\n",
    "alt_m"
   ]
  },
  {
   "cell_type": "code",
   "execution_count": 139,
   "id": "6ec157a8",
   "metadata": {},
   "outputs": [
    {
     "data": {
      "text/plain": [
       "array([[99999,     1,     7],\n",
       "       [    6,     6,     7]])"
      ]
     },
     "execution_count": 139,
     "metadata": {},
     "output_type": "execute_result"
    }
   ],
   "source": [
    "alt_m[0,0] = 99999\n",
    "alt_m"
   ]
  },
  {
   "cell_type": "code",
   "execution_count": 140,
   "id": "d0067c74",
   "metadata": {},
   "outputs": [
    {
     "data": {
      "text/plain": [
       "array([[8, 1, 7, 9, 6],\n",
       "       [6, 6, 7, 0, 9],\n",
       "       [2, 0, 7, 2, 7],\n",
       "       [6, 2, 5, 0, 2],\n",
       "       [2, 5, 8, 9, 7]])"
      ]
     },
     "execution_count": 140,
     "metadata": {},
     "output_type": "execute_result"
    }
   ],
   "source": [
    "m"
   ]
  },
  {
   "cell_type": "markdown",
   "id": "de8ec099",
   "metadata": {},
   "source": [
    "**Fancy index kavramı**\n",
    "* bu kavram çoğunlukla bir döngü veya işlem sonrası oluşacak çok büyük miktardaki veriye erişimi bir liste içine atayarak erişme esasına dayanıyor."
   ]
  },
  {
   "cell_type": "code",
   "execution_count": 141,
   "id": "7faf374d",
   "metadata": {},
   "outputs": [
    {
     "data": {
      "text/plain": [
       "array([0, 1, 2, 3, 4, 5, 6, 7, 8, 9])"
      ]
     },
     "execution_count": 141,
     "metadata": {},
     "output_type": "execute_result"
    }
   ],
   "source": [
    "vektor = np.arange(10)\n",
    "vektor"
   ]
  },
  {
   "cell_type": "code",
   "execution_count": 146,
   "id": "1bc48181",
   "metadata": {},
   "outputs": [],
   "source": [
    "fancy = [vektor[0:3]]"
   ]
  },
  {
   "cell_type": "code",
   "execution_count": 147,
   "id": "8d3cf93c",
   "metadata": {},
   "outputs": [
    {
     "data": {
      "text/plain": [
       "[array([0, 1, 2])]"
      ]
     },
     "execution_count": 147,
     "metadata": {},
     "output_type": "execute_result"
    }
   ],
   "source": [
    "fancy"
   ]
  },
  {
   "cell_type": "code",
   "execution_count": 151,
   "id": "41b63b6e",
   "metadata": {},
   "outputs": [
    {
     "data": {
      "text/plain": [
       "array([[ 0,  1,  2,  3],\n",
       "       [ 4,  5,  6,  7],\n",
       "       [ 8,  9, 10, 11],\n",
       "       [12, 13, 14, 15]])"
      ]
     },
     "execution_count": 151,
     "metadata": {},
     "output_type": "execute_result"
    }
   ],
   "source": [
    "matris = np.arange(16).reshape(4,4)\n",
    "matris"
   ]
  },
  {
   "cell_type": "code",
   "execution_count": 161,
   "id": "a7dcd12c",
   "metadata": {},
   "outputs": [
    {
     "data": {
      "text/plain": [
       "array([7, 2])"
      ]
     },
     "execution_count": 161,
     "metadata": {},
     "output_type": "execute_result"
    }
   ],
   "source": [
    "satir = np.array([1,2])\n",
    "sütun = np.array([2,3])\n",
    "fancy = m[satir,sütun]\n",
    "fancy"
   ]
  },
  {
   "cell_type": "code",
   "execution_count": 162,
   "id": "4d172035",
   "metadata": {},
   "outputs": [
    {
     "data": {
      "text/plain": [
       "array([[[1, 7]],\n",
       "\n",
       "       [[6, 7]],\n",
       "\n",
       "       [[0, 7]],\n",
       "\n",
       "       [[2, 5]],\n",
       "\n",
       "       [[5, 8]]])"
      ]
     },
     "execution_count": 162,
     "metadata": {},
     "output_type": "execute_result"
    }
   ],
   "source": [
    "fancy = m[0:,[satir]]\n",
    "fancy"
   ]
  },
  {
   "cell_type": "markdown",
   "id": "1730e354",
   "metadata": {},
   "source": [
    "**Koşullu eleman işlemleri**\n",
    "\n"
   ]
  },
  {
   "cell_type": "code",
   "execution_count": 163,
   "id": "e8385834",
   "metadata": {},
   "outputs": [
    {
     "data": {
      "text/plain": [
       "array([0, 1, 2, 3, 4, 5, 6, 7, 8, 9])"
      ]
     },
     "execution_count": 163,
     "metadata": {},
     "output_type": "execute_result"
    }
   ],
   "source": [
    "arr = np.arange(10)\n",
    "arr"
   ]
  },
  {
   "cell_type": "code",
   "execution_count": 164,
   "id": "9fd6ff9c",
   "metadata": {},
   "outputs": [
    {
     "data": {
      "text/plain": [
       "array([ True,  True,  True,  True, False, False, False, False, False,\n",
       "       False])"
      ]
     },
     "execution_count": 164,
     "metadata": {},
     "output_type": "execute_result"
    }
   ],
   "source": [
    "arr < 4 "
   ]
  },
  {
   "cell_type": "code",
   "execution_count": 165,
   "id": "9ce4a506",
   "metadata": {},
   "outputs": [
    {
     "data": {
      "text/plain": [
       "array([0, 1, 2, 3])"
      ]
     },
     "execution_count": 165,
     "metadata": {},
     "output_type": "execute_result"
    }
   ],
   "source": [
    "#fancy ile sonuçlara erişme \n",
    "arr[arr < 4]"
   ]
  },
  {
   "cell_type": "code",
   "execution_count": 166,
   "id": "ea5baf96",
   "metadata": {},
   "outputs": [
    {
     "data": {
      "text/plain": [
       "array([4, 5, 6, 7, 8, 9])"
      ]
     },
     "execution_count": 166,
     "metadata": {},
     "output_type": "execute_result"
    }
   ],
   "source": [
    "arr[arr > 3]"
   ]
  },
  {
   "cell_type": "code",
   "execution_count": 167,
   "id": "acd21a78",
   "metadata": {},
   "outputs": [
    {
     "data": {
      "text/plain": [
       "array([3, 4, 5, 6, 7, 8, 9])"
      ]
     },
     "execution_count": 167,
     "metadata": {},
     "output_type": "execute_result"
    }
   ],
   "source": [
    "arr[arr >= 3]"
   ]
  },
  {
   "cell_type": "code",
   "execution_count": 168,
   "id": "a8d1f6e3",
   "metadata": {},
   "outputs": [
    {
     "data": {
      "text/plain": [
       "array([0, 1, 2, 3])"
      ]
     },
     "execution_count": 168,
     "metadata": {},
     "output_type": "execute_result"
    }
   ],
   "source": [
    "arr[arr <= 3]"
   ]
  },
  {
   "cell_type": "code",
   "execution_count": 169,
   "id": "e376c492",
   "metadata": {},
   "outputs": [
    {
     "data": {
      "text/plain": [
       "array([3])"
      ]
     },
     "execution_count": 169,
     "metadata": {},
     "output_type": "execute_result"
    }
   ],
   "source": [
    "arr[arr == 3]"
   ]
  },
  {
   "cell_type": "code",
   "execution_count": 170,
   "id": "37945b3e",
   "metadata": {},
   "outputs": [
    {
     "data": {
      "text/plain": [
       "array([0, 1, 2, 4, 5, 6, 7, 8, 9])"
      ]
     },
     "execution_count": 170,
     "metadata": {},
     "output_type": "execute_result"
    }
   ],
   "source": [
    "arr[arr != 3]"
   ]
  },
  {
   "cell_type": "code",
   "execution_count": 171,
   "id": "5749e8f3",
   "metadata": {},
   "outputs": [
    {
     "data": {
      "text/plain": [
       "array([ 0,  2,  4,  6,  8, 10, 12, 14, 16, 18])"
      ]
     },
     "execution_count": 171,
     "metadata": {},
     "output_type": "execute_result"
    }
   ],
   "source": [
    "arr * 2\n"
   ]
  },
  {
   "cell_type": "code",
   "execution_count": 172,
   "id": "452df59c",
   "metadata": {},
   "outputs": [
    {
     "data": {
      "text/plain": [
       "array([0. , 0.2, 0.4, 0.6, 0.8, 1. , 1.2, 1.4, 1.6, 1.8])"
      ]
     },
     "execution_count": 172,
     "metadata": {},
     "output_type": "execute_result"
    }
   ],
   "source": [
    "arr / 5"
   ]
  },
  {
   "cell_type": "code",
   "execution_count": 173,
   "id": "bfa74a73",
   "metadata": {},
   "outputs": [
    {
     "data": {
      "text/plain": [
       "array([0. , 0.5, 1. , 1.5, 2. , 2.5, 3. , 3.5, 4. , 4.5])"
      ]
     },
     "execution_count": 173,
     "metadata": {},
     "output_type": "execute_result"
    }
   ],
   "source": [
    "arr*5/10"
   ]
  },
  {
   "cell_type": "code",
   "execution_count": 174,
   "id": "fa130a92",
   "metadata": {},
   "outputs": [
    {
     "data": {
      "text/plain": [
       "array([ 0,  1,  4,  9, 16, 25, 36, 49, 64, 81])"
      ]
     },
     "execution_count": 174,
     "metadata": {},
     "output_type": "execute_result"
    }
   ],
   "source": [
    "arr**2"
   ]
  },
  {
   "cell_type": "markdown",
   "id": "2412e37d",
   "metadata": {},
   "source": [
    "**Numpy matematiksel işlemler**\n"
   ]
  },
  {
   "cell_type": "markdown",
   "id": "91420e9d",
   "metadata": {},
   "source": []
  }
 ],
 "metadata": {
  "kernelspec": {
   "display_name": "Python 3 (ipykernel)",
   "language": "python",
   "name": "python3"
  },
  "language_info": {
   "codemirror_mode": {
    "name": "ipython",
    "version": 3
   },
   "file_extension": ".py",
   "mimetype": "text/x-python",
   "name": "python",
   "nbconvert_exporter": "python",
   "pygments_lexer": "ipython3",
   "version": "3.10.9"
  }
 },
 "nbformat": 4,
 "nbformat_minor": 5
}
