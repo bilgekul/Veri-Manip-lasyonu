{
 "cells": [
  {
   "cell_type": "code",
   "execution_count": 6,
   "id": "027aa3d0-18aa-427f-b537-81704d6c4d31",
   "metadata": {},
   "outputs": [],
   "source": [
    "import numpy as np"
   ]
  },
  {
   "cell_type": "markdown",
   "id": "8b0d2dc0-a52a-4ad7-8920-a38062fdc253",
   "metadata": {
    "tags": []
   },
   "source": [
    "**_Numerical Python açılımı.\n",
    "Bilimsel hesaplamalar için kullanılır.\n",
    "Arraylar / Çok boyutlu array ve matrisler üzerinde yüksek performanslı çalışma imkanı sağlar.\n",
    "Listelere benzer fakat verimli veri saklama ve vektörel operasyon sağlar._**\n",
    "\n",
    "**Hücre çalıştırma => Shift + Enter**\n",
    "\n",
    "**Notebook kuralları:**\n",
    "\n",
    "* Silme => D + D\n",
    "\n",
    "* Kesme => Dış tıkla + X\n",
    "\n",
    "* Kopyalama => Dış tıkla + C\n",
    "\n",
    "* Yapıştırma => Dış tıkla + V\n",
    "\n",
    "**!! Hücre içinde code kısmında en son neyi yazdıysan onu çalıştırır.**\n",
    "\n",
    "a = [1,2,3,4]\n",
    "b = [2,3,4,5]\n",
    "\n",
    "a\n",
    "\n",
    "b\n",
    "\n",
    "burada b çalışacak a çalışmayacaktır. Ama ikisini farklı hücrede çağırır isek ikiside çalışacaktır.\n",
    "\n"
   ]
  },
  {
   "cell_type": "code",
   "execution_count": 7,
   "id": "7c64a8a0-b130-45c2-a573-09d888f24696",
   "metadata": {},
   "outputs": [],
   "source": [
    "a = [1,2,3,4]\n",
    "b = [2,3,4,5]\n",
    "\n",
    "\n",
    "\n"
   ]
  },
  {
   "cell_type": "code",
   "execution_count": 8,
   "id": "a6585caf-e95e-4b7f-98fd-ceb60a73a5f3",
   "metadata": {},
   "outputs": [
    {
     "data": {
      "text/plain": [
       "[2, 6, 12, 20]"
      ]
     },
     "execution_count": 8,
     "metadata": {},
     "output_type": "execute_result"
    }
   ],
   "source": [
    "ab = []\n",
    "for i in range(0,len(a)):\n",
    "    ab.append(a[i]*b[i])\n",
    "ab"
   ]
  },
  {
   "cell_type": "code",
   "execution_count": 8,
   "id": "4ea57c36-94ee-4964-bf4c-8569fcaf6945",
   "metadata": {},
   "outputs": [
    {
     "data": {
      "text/plain": [
       "array([ 2,  6, 12, 20])"
      ]
     },
     "execution_count": 8,
     "metadata": {},
     "output_type": "execute_result"
    }
   ],
   "source": [
    "\n",
    "\n",
    "a = np.array([1,2,3,4])\n",
    "b = np.array([2,3,4,5])\n",
    "\n",
    "a*b"
   ]
  },
  {
   "cell_type": "code",
   "execution_count": 13,
   "id": "8086c646-ea2c-4a5e-bf88-b10ba13f5e98",
   "metadata": {},
   "outputs": [
    {
     "data": {
      "text/plain": [
       "numpy.ndarray"
      ]
     },
     "execution_count": 13,
     "metadata": {},
     "output_type": "execute_result"
    }
   ],
   "source": [
    "c = np.array([12,3,4])\n",
    "type(c)"
   ]
  },
  {
   "cell_type": "code",
   "execution_count": 14,
   "id": "844cc7d5-ca20-4143-8dee-4153407c2f8a",
   "metadata": {},
   "outputs": [
    {
     "data": {
      "text/plain": [
       "array([3.14, 2.  , 3.  ])"
      ]
     },
     "execution_count": 14,
     "metadata": {},
     "output_type": "execute_result"
    }
   ],
   "source": [
    "np.array([3.14,2,3])\n"
   ]
  },
  {
   "cell_type": "markdown",
   "id": "14a9a6ab-1595-4e10-8d22-c27050fe3082",
   "metadata": {},
   "source": [
    "**numpy arrayleri sabit tip baskısı sağlar**\n",
    "\n",
    "* **eğer özel tip yapmak istersek numpy.array() içine dtype=\"\" diyerek dtype içine istediğimiz number tipini koyabiliriz.**\n"
   ]
  },
  {
   "cell_type": "code",
   "execution_count": 16,
   "id": "e2b9727e-6b3d-46bd-b98e-efa61b59b73a",
   "metadata": {},
   "outputs": [
    {
     "data": {
      "text/plain": [
       "array([1, 2, 3, 4])"
      ]
     },
     "execution_count": 16,
     "metadata": {},
     "output_type": "execute_result"
    }
   ],
   "source": [
    "np.array([1.1,2.2,3.4,4.5],dtype = \"int\")"
   ]
  },
  {
   "cell_type": "markdown",
   "id": "0bf72193-1f30-4f9f-9330-4cd5aca7da3b",
   "metadata": {},
   "source": [
    "**Sıfırdan array oluşturma işlemleri**\n",
    "\n",
    "* _**np.zeros(10)** => 10 tane 0 dan oluşmuş bir array oluşturur._\n",
    "\n",
    "* _**np.ones((3,5))** => 3 satır 5 sütunluk 1 lerden oluşmuş bir array_\n",
    "\n",
    "* _**np.full((3,5),3)** => sadece 3 lerden oluşan 3 x 5 matris_\n",
    "\n",
    "* _**np.arange(0,31,3)** => 0 dan 30 a kadar 3 er sıra ara ile lineer dizi oluşturur._\n",
    "\n",
    "* _**np.linspace(0,1,10)** => 0 ile 1 arasında 10 adımlı lineer dizi oluşturur._\n",
    "\n",
    "* _**np.random.normal(10,4, (3,4))** => ortalaması 10 standart sapması 4 olucak şekilde rastgele sayılardan üretilmiş bir 3 x 4 matris oluşturur._ => dağılım\n",
    "\n",
    "* _**np.random.rand()** ve np.randint() rand() 0 ile 1 arasında randint verilen değer aralığında olucak rastgele sayılar ile matris oluşturur._\n",
    "\n",
    "\n",
    "\n"
   ]
  },
  {
   "cell_type": "code",
   "execution_count": 17,
   "id": "ba7e31ac-82e9-4bea-97ef-5acb4a19cf1c",
   "metadata": {},
   "outputs": [
    {
     "data": {
      "text/plain": [
       "array([0., 0., 0., 0., 0., 0., 0., 0., 0., 0.])"
      ]
     },
     "execution_count": 17,
     "metadata": {},
     "output_type": "execute_result"
    }
   ],
   "source": [
    "np.zeros(10)"
   ]
  },
  {
   "cell_type": "code",
   "execution_count": 18,
   "id": "5de7503c-8987-4617-b4f0-0a1de26e5886",
   "metadata": {},
   "outputs": [
    {
     "data": {
      "text/plain": [
       "array([1., 1., 1., 1., 1., 1., 1., 1., 1., 1.])"
      ]
     },
     "execution_count": 18,
     "metadata": {},
     "output_type": "execute_result"
    }
   ],
   "source": [
    "np.ones(10)"
   ]
  },
  {
   "cell_type": "code",
   "execution_count": 19,
   "id": "da7e40b0-05ac-411b-8a41-dbefc498f04c",
   "metadata": {},
   "outputs": [
    {
     "data": {
      "text/plain": [
       "array([[0., 0.],\n",
       "       [0., 0.]])"
      ]
     },
     "execution_count": 19,
     "metadata": {},
     "output_type": "execute_result"
    }
   ],
   "source": [
    "np.zeros((2,2))"
   ]
  },
  {
   "cell_type": "code",
   "execution_count": 21,
   "id": "2c3f9f7c-5477-4c7d-83b2-a51901ee4122",
   "metadata": {},
   "outputs": [
    {
     "data": {
      "text/plain": [
       "array([[1, 1, 1, 1],\n",
       "       [1, 1, 1, 1],\n",
       "       [1, 1, 1, 1]])"
      ]
     },
     "execution_count": 21,
     "metadata": {},
     "output_type": "execute_result"
    }
   ],
   "source": [
    "np.ones((3,4),dtype=\"int\")"
   ]
  },
  {
   "cell_type": "code",
   "execution_count": 23,
   "id": "7413cd23-832e-4f9d-9966-eb46dcafc19f",
   "metadata": {},
   "outputs": [
    {
     "data": {
      "text/plain": [
       "array([[31, 31, 31, 31],\n",
       "       [31, 31, 31, 31],\n",
       "       [31, 31, 31, 31],\n",
       "       [31, 31, 31, 31]])"
      ]
     },
     "execution_count": 23,
     "metadata": {},
     "output_type": "execute_result"
    }
   ],
   "source": [
    "np.full((4,4),31)"
   ]
  },
  {
   "cell_type": "code",
   "execution_count": 24,
   "id": "4e4a7790-3de3-4221-add7-daa8f09241c9",
   "metadata": {},
   "outputs": [
    {
     "data": {
      "text/plain": [
       "array([0, 1, 2, 3, 4, 5, 6, 7, 8, 9])"
      ]
     },
     "execution_count": 24,
     "metadata": {},
     "output_type": "execute_result"
    }
   ],
   "source": [
    "np.arange(0,10,1)"
   ]
  },
  {
   "cell_type": "code",
   "execution_count": 30,
   "id": "e5c8767b-4f8d-41a3-875c-7027f17f24d7",
   "metadata": {},
   "outputs": [
    {
     "data": {
      "text/plain": [
       "array([0.        , 0.11111111, 0.22222222, 0.33333333, 0.44444444,\n",
       "       0.55555556, 0.66666667, 0.77777778, 0.88888889, 1.        ])"
      ]
     },
     "execution_count": 30,
     "metadata": {},
     "output_type": "execute_result"
    }
   ],
   "source": [
    "np.linspace(0,1,10)"
   ]
  },
  {
   "cell_type": "code",
   "execution_count": 31,
   "id": "b86d5315-730b-44aa-96ec-e5aa648427a1",
   "metadata": {},
   "outputs": [
    {
     "data": {
      "text/plain": [
       "array([[  3.45260665, -16.82690117,  17.33117437,  -2.61354252],\n",
       "       [  1.79748655,   2.90953859,  11.57458003, -12.64151267],\n",
       "       [  1.31726249,   8.05083932,  10.82648535,  -6.72807473]])"
      ]
     },
     "execution_count": 31,
     "metadata": {},
     "output_type": "execute_result"
    }
   ],
   "source": [
    "np.random.normal(2,14,(3,4))"
   ]
  },
  {
   "cell_type": "code",
   "execution_count": 40,
   "id": "4479e7c5-02b0-4dfc-a7ba-33aa9b034b02",
   "metadata": {},
   "outputs": [
    {
     "data": {
      "text/plain": [
       "array([[0.45740461, 0.66621012, 0.22844002],\n",
       "       [0.79606966, 0.1476813 , 0.10683871]])"
      ]
     },
     "execution_count": 40,
     "metadata": {},
     "output_type": "execute_result"
    }
   ],
   "source": [
    "np.random.rand(2,3)"
   ]
  },
  {
   "cell_type": "code",
   "execution_count": 38,
   "id": "184ce6f6-2fc7-407f-bd2e-fe6c4cd96153",
   "metadata": {},
   "outputs": [
    {
     "data": {
      "text/plain": [
       "array([[4, 0, 5],\n",
       "       [1, 2, 6],\n",
       "       [8, 9, 0]])"
      ]
     },
     "execution_count": 38,
     "metadata": {},
     "output_type": "execute_result"
    }
   ],
   "source": [
    "np.random.randint(0,10,(3,3))"
   ]
  },
  {
   "cell_type": "markdown",
   "id": "a5f33a80-cda4-4d07-b9a4-bb9a32b636a7",
   "metadata": {},
   "source": [
    "**_np.random.randint(10, size=10)_** 0 dan 10 kadar farklı sayı veren size = 10 olan bir lineer dizi verir."
   ]
  },
  {
   "cell_type": "code",
   "execution_count": 59,
   "id": "36f1129a-75ca-41bf-9e5a-d221ccb82e12",
   "metadata": {},
   "outputs": [],
   "source": [
    "a = np.random.randint(10, size=10)"
   ]
  },
  {
   "cell_type": "markdown",
   "id": "3b7a6f67-ac5d-49c7-848b-629ad0ce9d32",
   "metadata": {},
   "source": [
    "_**a.ndim**_ => boyut sayısını verir\n",
    "\n",
    "_**a.shape**_ => boyut bilgisini verir eğer lineer bir dizi ise boyut bilgisi eleman sayısını eşittir.\n",
    "\n",
    "_**a.size**_ => eleman sayısı verir\n",
    "\n",
    "_**a.dtype**_ => array veri tipini verir"
   ]
  },
  {
   "cell_type": "code",
   "execution_count": 45,
   "id": "f0be566e-7101-4268-a84a-cc9d6d1efb48",
   "metadata": {},
   "outputs": [
    {
     "data": {
      "text/plain": [
       "1"
      ]
     },
     "execution_count": 45,
     "metadata": {},
     "output_type": "execute_result"
    }
   ],
   "source": [
    "a.ndim\n"
   ]
  },
  {
   "cell_type": "code",
   "execution_count": 50,
   "id": "ca1d1380-ad3b-4825-b765-ec4b2bb6a185",
   "metadata": {},
   "outputs": [
    {
     "data": {
      "text/plain": [
       "(10,)"
      ]
     },
     "execution_count": 50,
     "metadata": {},
     "output_type": "execute_result"
    }
   ],
   "source": [
    "a.shape"
   ]
  },
  {
   "cell_type": "code",
   "execution_count": 61,
   "id": "d1990f83-41fa-4795-b46e-767b851a6b8c",
   "metadata": {},
   "outputs": [
    {
     "data": {
      "text/plain": [
       "10"
      ]
     },
     "execution_count": 61,
     "metadata": {},
     "output_type": "execute_result"
    }
   ],
   "source": [
    "a.size"
   ]
  },
  {
   "cell_type": "code",
   "execution_count": 9,
   "id": "05bede4b-44d7-420e-a3f5-292587353684",
   "metadata": {},
   "outputs": [
    {
     "data": {
      "text/plain": [
       "dtype('int32')"
      ]
     },
     "execution_count": 9,
     "metadata": {},
     "output_type": "execute_result"
    }
   ],
   "source": [
    "a.dtype"
   ]
  },
  {
   "cell_type": "code",
   "execution_count": 10,
   "id": "851df8ba-348c-4339-8843-000b34555fae",
   "metadata": {},
   "outputs": [],
   "source": [
    "b = np.random.randint(10, size= (3,5))"
   ]
  },
  {
   "cell_type": "code",
   "execution_count": 11,
   "id": "ddedf9d2",
   "metadata": {},
   "outputs": [
    {
     "data": {
      "text/plain": [
       "array([[5, 8, 2, 2, 2],\n",
       "       [5, 4, 9, 8, 0],\n",
       "       [0, 9, 3, 6, 6]])"
      ]
     },
     "execution_count": 11,
     "metadata": {},
     "output_type": "execute_result"
    }
   ],
   "source": [
    "b"
   ]
  },
  {
   "cell_type": "code",
   "execution_count": 12,
   "id": "56cb1b1d",
   "metadata": {},
   "outputs": [
    {
     "data": {
      "text/plain": [
       "2"
      ]
     },
     "execution_count": 12,
     "metadata": {},
     "output_type": "execute_result"
    }
   ],
   "source": [
    "b.ndim"
   ]
  },
  {
   "cell_type": "code",
   "execution_count": 13,
   "id": "10bc4a08",
   "metadata": {},
   "outputs": [
    {
     "data": {
      "text/plain": [
       "(3, 5)"
      ]
     },
     "execution_count": 13,
     "metadata": {},
     "output_type": "execute_result"
    }
   ],
   "source": [
    "b.shape"
   ]
  },
  {
   "cell_type": "code",
   "execution_count": 14,
   "id": "dcd79816",
   "metadata": {},
   "outputs": [
    {
     "data": {
      "text/plain": [
       "15"
      ]
     },
     "execution_count": 14,
     "metadata": {},
     "output_type": "execute_result"
    }
   ],
   "source": [
    "b.size"
   ]
  },
  {
   "cell_type": "code",
   "execution_count": 15,
   "id": "ea602dae",
   "metadata": {},
   "outputs": [
    {
     "data": {
      "text/plain": [
       "dtype('int32')"
      ]
     },
     "execution_count": 15,
     "metadata": {},
     "output_type": "execute_result"
    }
   ],
   "source": [
    "b.dtype"
   ]
  },
  {
   "cell_type": "markdown",
   "id": "09bd063c",
   "metadata": {},
   "source": [
    "* _**np.reshape()**_ bize matrisi veya lineer bir dizinin boyutunu değiştirme imkanı sağlar."
   ]
  },
  {
   "cell_type": "code",
   "execution_count": 10,
   "id": "2fef2968",
   "metadata": {},
   "outputs": [
    {
     "data": {
      "text/plain": [
       "array([[1, 2, 3],\n",
       "       [4, 5, 6],\n",
       "       [7, 8, 9]])"
      ]
     },
     "execution_count": 10,
     "metadata": {},
     "output_type": "execute_result"
    }
   ],
   "source": [
    "\n",
    "arr = np.arange(1,10)\n",
    "\n",
    "new_arr = arr.reshape((3,3))\n",
    "\n",
    "new_arr\n",
    "\n",
    "\n",
    "\n"
   ]
  },
  {
   "cell_type": "code",
   "execution_count": 11,
   "id": "3d9429a2",
   "metadata": {},
   "outputs": [
    {
     "data": {
      "text/plain": [
       "array([[0, 1],\n",
       "       [2, 3],\n",
       "       [4, 5],\n",
       "       [6, 7],\n",
       "       [8, 9]])"
      ]
     },
     "execution_count": 11,
     "metadata": {},
     "output_type": "execute_result"
    }
   ],
   "source": [
    "array = np.arange(0,10).reshape((5,2))\n",
    "array"
   ]
  },
  {
   "cell_type": "markdown",
   "id": "13d6d9fb",
   "metadata": {},
   "source": [
    " **iki farklı numpy array birleştirme**\n",
    " * _**np.concatenate()**_ sayesinde tek boyutlu iki veya ikiden fazla np.array birleştirebiliriz. Aynı şekilde iki boyutlu matrisler içinde geçerli \n",
    "\n",
    " * _**axis=**_ ise mevcut dizinin satır mı yoksa sütun bazında gözükmesini sağlar axis=0 satır axis=1 sütun şeklinde gösterir\n",
    "\n"
   ]
  },
  {
   "cell_type": "code",
   "execution_count": 12,
   "id": "83f5403f",
   "metadata": {},
   "outputs": [
    {
     "data": {
      "text/plain": [
       "array([1, 2, 3, 4, 5, 6])"
      ]
     },
     "execution_count": 12,
     "metadata": {},
     "output_type": "execute_result"
    }
   ],
   "source": [
    "a = np.array([1,2,3])\n",
    "b = np.array([4,5,6])\n",
    "\n",
    "concat = np.concatenate([a,b])\n",
    "\n",
    "concat\n",
    "\n"
   ]
  },
  {
   "cell_type": "code",
   "execution_count": 20,
   "id": "3ccdcdcb",
   "metadata": {},
   "outputs": [
    {
     "data": {
      "text/plain": [
       "array([[2, 2, 7, 2, 2, 7],\n",
       "       [9, 7, 8, 9, 7, 8],\n",
       "       [3, 4, 0, 3, 4, 0]])"
      ]
     },
     "execution_count": 20,
     "metadata": {},
     "output_type": "execute_result"
    }
   ],
   "source": [
    "a = np.random.randint(0,10,(3,3))\n",
    "\n",
    "concat = np.concatenate([a,a], axis=1)\n",
    "\n",
    "concat"
   ]
  },
  {
   "cell_type": "code",
   "execution_count": null,
   "id": "faaa280c",
   "metadata": {},
   "outputs": [],
   "source": []
  }
 ],
 "metadata": {
  "kernelspec": {
   "display_name": "Python 3 (ipykernel)",
   "language": "python",
   "name": "python3"
  },
  "language_info": {
   "codemirror_mode": {
    "name": "ipython",
    "version": 3
   },
   "file_extension": ".py",
   "mimetype": "text/x-python",
   "name": "python",
   "nbconvert_exporter": "python",
   "pygments_lexer": "ipython3",
   "version": "3.10.9"
  }
 },
 "nbformat": 4,
 "nbformat_minor": 5
}
